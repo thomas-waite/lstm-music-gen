{
  "nbformat": 4,
  "nbformat_minor": 0,
  "metadata": {
    "colab": {
      "name": "lstm_music",
      "provenance": [],
      "collapsed_sections": [],
      "toc_visible": true
    },
    "kernelspec": {
      "name": "python3",
      "display_name": "Python 3"
    },
    "accelerator": "GPU"
  },
  "cells": [
    {
      "cell_type": "code",
      "metadata": {
        "id": "MYTI-cuMJZuG",
        "colab": {
          "base_uri": "https://localhost:8080/"
        },
        "outputId": "43c01ee7-51bd-4d65-db59-5a266269d79b"
      },
      "source": [
        "import os\n",
        "from google.colab import drive, files\n",
        "%cd /content/drive/My Drive/ML/lstm-music-gen\n",
        "\n",
        "\n",
        "!ls"
      ],
      "execution_count": 12,
      "outputs": [
        {
          "output_type": "stream",
          "text": [
            "/content/drive/My Drive/ML/lstm-music-gen\n",
            "'Copy of generate_model_image.py'   generate_model_image.py\n",
            "'Copy of LICENSE'\t\t    LICENSE\n",
            "'Copy of Makefile'\t\t    Makefile\n",
            "'Copy of model.py'\t\t    model.py\n",
            "'Copy of model_schematic.png'\t    model_schematic.png\n",
            "'Copy of prepare_data.py'\t    prepare_data.py\n",
            "'Copy of README.md'\t\t    README.md\n",
            "'Copy of requirements.txt'\t    requirements.txt\n",
            "'Copy of test.pickle'\t\t    test.pickle\n",
            "'Copy of train.py'\t\t    train.py\n"
          ],
          "name": "stdout"
        }
      ]
    },
    {
      "cell_type": "code",
      "metadata": {
        "colab": {
          "base_uri": "https://localhost:8080/",
          "height": 52
        },
        "id": "2dM09pSMPvgB",
        "outputId": "48404052-fb3f-4e88-c759-b47df4f278b7"
      },
      "source": [
        "!pwd\n",
        "\n",
        "# Confirm that GPU is activated\n",
        "import tensorflow as tf\n",
        "tf.test.gpu_device_name()"
      ],
      "execution_count": 7,
      "outputs": [
        {
          "output_type": "stream",
          "text": [
            "/content\n"
          ],
          "name": "stdout"
        },
        {
          "output_type": "execute_result",
          "data": {
            "application/vnd.google.colaboratory.intrinsic+json": {
              "type": "string"
            },
            "text/plain": [
              "'/device:GPU:0'"
            ]
          },
          "metadata": {
            "tags": []
          },
          "execution_count": 7
        }
      ]
    },
    {
      "cell_type": "markdown",
      "metadata": {
        "id": "0dWCWeOGN1pS"
      },
      "source": [
        "**Confirm data is as expected**"
      ]
    },
    {
      "cell_type": "code",
      "metadata": {
        "colab": {
          "base_uri": "https://localhost:8080/",
          "height": 347
        },
        "id": "jxoxfk0sSrWP",
        "outputId": "2b5c92f4-6aa2-45aa-f245-ab22e97633bb"
      },
      "source": [
        "from prepare_data import PrepareData\n",
        "data_prep = PrepareData()\n",
        "notes = data_prep.get_notes()\n",
        "print('Number of notes: ', len(notes))"
      ],
      "execution_count": 5,
      "outputs": [
        {
          "output_type": "error",
          "ename": "ModuleNotFoundError",
          "evalue": "ignored",
          "traceback": [
            "\u001b[0;31m---------------------------------------------------------------------------\u001b[0m",
            "\u001b[0;31mModuleNotFoundError\u001b[0m                       Traceback (most recent call last)",
            "\u001b[0;32m<ipython-input-5-9e16d3276670>\u001b[0m in \u001b[0;36m<module>\u001b[0;34m()\u001b[0m\n\u001b[0;32m----> 1\u001b[0;31m \u001b[0;32mfrom\u001b[0m \u001b[0mprepare_data\u001b[0m \u001b[0;32mimport\u001b[0m \u001b[0mPrepareData\u001b[0m\u001b[0;34m\u001b[0m\u001b[0;34m\u001b[0m\u001b[0m\n\u001b[0m\u001b[1;32m      2\u001b[0m \u001b[0mdata_prep\u001b[0m \u001b[0;34m=\u001b[0m \u001b[0mPrepareData\u001b[0m\u001b[0;34m(\u001b[0m\u001b[0;34m)\u001b[0m\u001b[0;34m\u001b[0m\u001b[0;34m\u001b[0m\u001b[0m\n\u001b[1;32m      3\u001b[0m \u001b[0mnotes\u001b[0m \u001b[0;34m=\u001b[0m \u001b[0mdata_prep\u001b[0m\u001b[0;34m.\u001b[0m\u001b[0mget_notes\u001b[0m\u001b[0;34m(\u001b[0m\u001b[0;34m)\u001b[0m\u001b[0;34m\u001b[0m\u001b[0;34m\u001b[0m\u001b[0m\n\u001b[1;32m      4\u001b[0m \u001b[0mprint\u001b[0m\u001b[0;34m(\u001b[0m\u001b[0;34m'Number of notes: '\u001b[0m\u001b[0;34m,\u001b[0m \u001b[0mlen\u001b[0m\u001b[0;34m(\u001b[0m\u001b[0mnotes\u001b[0m\u001b[0;34m)\u001b[0m\u001b[0;34m)\u001b[0m\u001b[0;34m\u001b[0m\u001b[0;34m\u001b[0m\u001b[0m\n",
            "\u001b[0;31mModuleNotFoundError\u001b[0m: No module named 'prepare_data'",
            "",
            "\u001b[0;31m---------------------------------------------------------------------------\u001b[0;32m\nNOTE: If your import is failing due to a missing package, you can\nmanually install dependencies using either !pip or !apt.\n\nTo view examples of installing some common dependencies, click the\n\"Open Examples\" button below.\n\u001b[0;31m---------------------------------------------------------------------------\u001b[0m\n"
          ]
        }
      ]
    },
    {
      "cell_type": "code",
      "metadata": {
        "id": "YeZYEmXPV7rT"
      },
      "source": [
        "# Perform training\n",
        "from train import execute_training\n",
        "\n",
        "execute_training()\n"
      ],
      "execution_count": null,
      "outputs": []
    }
  ]
}